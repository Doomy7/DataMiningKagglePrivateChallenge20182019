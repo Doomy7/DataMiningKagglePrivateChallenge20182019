{
 "cells": [
  {
   "cell_type": "code",
   "execution_count": 5,
   "metadata": {},
   "outputs": [
    {
     "ename": "ImportError",
     "evalue": "C extension: No module named 'pandas._libs.tslib' not built. If you want to import pandas from the source directory, you may need to run 'python setup.py build_ext --inplace --force' to build the C extensions first.",
     "traceback": [
      "\u001b[1;31m---------------------------------------------------------------------------\u001b[0m",
      "\u001b[1;31mModuleNotFoundError\u001b[0m                       Traceback (most recent call last)",
      "\u001b[1;32mC:\\Anaconda3\\lib\\site-packages\\pandas\\__init__.py\u001b[0m in \u001b[0;36m<module>\u001b[1;34m\u001b[0m\n\u001b[0;32m     25\u001b[0m \u001b[1;32mtry\u001b[0m\u001b[1;33m:\u001b[0m\u001b[1;33m\u001b[0m\u001b[1;33m\u001b[0m\u001b[0m\n\u001b[1;32m---> 26\u001b[1;33m     from pandas._libs import (hashtable as _hashtable,\n\u001b[0m\u001b[0;32m     27\u001b[0m                              \u001b[0mlib\u001b[0m \u001b[1;32mas\u001b[0m \u001b[0m_lib\u001b[0m\u001b[1;33m,\u001b[0m\u001b[1;33m\u001b[0m\u001b[1;33m\u001b[0m\u001b[0m\n",
      "\u001b[1;32mC:\\Anaconda3\\lib\\site-packages\\pandas\\_libs\\__init__.py\u001b[0m in \u001b[0;36m<module>\u001b[1;34m\u001b[0m\n\u001b[0;32m      3\u001b[0m \u001b[1;33m\u001b[0m\u001b[0m\n\u001b[1;32m----> 4\u001b[1;33m \u001b[1;32mfrom\u001b[0m \u001b[1;33m.\u001b[0m\u001b[0mtslib\u001b[0m \u001b[1;32mimport\u001b[0m \u001b[0miNaT\u001b[0m\u001b[1;33m,\u001b[0m \u001b[0mNaT\u001b[0m\u001b[1;33m,\u001b[0m \u001b[0mTimestamp\u001b[0m\u001b[1;33m,\u001b[0m \u001b[0mTimedelta\u001b[0m\u001b[1;33m,\u001b[0m \u001b[0mOutOfBoundsDatetime\u001b[0m\u001b[1;33m\u001b[0m\u001b[1;33m\u001b[0m\u001b[0m\n\u001b[0m\u001b[0;32m      5\u001b[0m \u001b[1;33m\u001b[0m\u001b[0m\n",
      "\u001b[1;31mModuleNotFoundError\u001b[0m: No module named 'pandas._libs.tslib'",
      "\nDuring handling of the above exception, another exception occurred:\n",
      "\u001b[1;31mImportError\u001b[0m                               Traceback (most recent call last)",
      "\u001b[1;32m<ipython-input-5-cfe6d45814ff>\u001b[0m in \u001b[0;36m<module>\u001b[1;34m\u001b[0m\n\u001b[1;32m----> 1\u001b[1;33m \u001b[1;32mimport\u001b[0m \u001b[0mpandas\u001b[0m \u001b[1;32mas\u001b[0m \u001b[0mpd\u001b[0m\u001b[1;33m\u001b[0m\u001b[1;33m\u001b[0m\u001b[0m\n\u001b[0m\u001b[0;32m      2\u001b[0m \u001b[1;32mimport\u001b[0m \u001b[0mnumpy\u001b[0m \u001b[1;32mas\u001b[0m \u001b[0mnp\u001b[0m\u001b[1;33m\u001b[0m\u001b[1;33m\u001b[0m\u001b[0m\n\u001b[0;32m      3\u001b[0m \u001b[1;32mimport\u001b[0m \u001b[0mdatetime\u001b[0m\u001b[1;33m\u001b[0m\u001b[1;33m\u001b[0m\u001b[0m\n\u001b[0;32m      4\u001b[0m \u001b[1;32mfrom\u001b[0m \u001b[0msklearn\u001b[0m\u001b[1;33m.\u001b[0m\u001b[0mmetrics\u001b[0m \u001b[1;32mimport\u001b[0m \u001b[0mf1_score\u001b[0m\u001b[1;33m\u001b[0m\u001b[1;33m\u001b[0m\u001b[0m\n\u001b[0;32m      5\u001b[0m \u001b[1;32mfrom\u001b[0m \u001b[0msklearn\u001b[0m\u001b[1;33m.\u001b[0m\u001b[0mpreprocessing\u001b[0m \u001b[1;32mimport\u001b[0m \u001b[0mLabelEncoder\u001b[0m\u001b[1;33m\u001b[0m\u001b[1;33m\u001b[0m\u001b[0m\n",
      "\u001b[1;32mC:\\Anaconda3\\lib\\site-packages\\pandas\\__init__.py\u001b[0m in \u001b[0;36m<module>\u001b[1;34m\u001b[0m\n\u001b[0;32m     33\u001b[0m                       \u001b[1;34m\"pandas from the source directory, you may need to run \"\u001b[0m\u001b[1;33m\u001b[0m\u001b[1;33m\u001b[0m\u001b[0m\n\u001b[0;32m     34\u001b[0m                       \u001b[1;34m\"'python setup.py build_ext --inplace --force' to build \"\u001b[0m\u001b[1;33m\u001b[0m\u001b[1;33m\u001b[0m\u001b[0m\n\u001b[1;32m---> 35\u001b[1;33m                       \"the C extensions first.\".format(module))\n\u001b[0m\u001b[0;32m     36\u001b[0m \u001b[1;33m\u001b[0m\u001b[0m\n\u001b[0;32m     37\u001b[0m \u001b[1;32mfrom\u001b[0m \u001b[0mdatetime\u001b[0m \u001b[1;32mimport\u001b[0m \u001b[0mdatetime\u001b[0m\u001b[1;33m\u001b[0m\u001b[1;33m\u001b[0m\u001b[0m\n",
      "\u001b[1;31mImportError\u001b[0m: C extension: No module named 'pandas._libs.tslib' not built. If you want to import pandas from the source directory, you may need to run 'python setup.py build_ext --inplace --force' to build the C extensions first."
     ],
     "output_type": "error"
    }
   ],
   "source": [
    "import pandas as pd\n",
    "import numpy as np\n",
    "import datetime\n",
    "from sklearn.metrics import f1_score\n",
    "from sklearn.preprocessing import LabelEncoder\n",
    "from sklearn.linear_model import LogisticRegression\n",
    "from sklearn.model_selection import train_test_split\n",
    "from sklearn.preprocessing import OneHotEncoder\n",
    "import math\n",
    "import random\n",
    "import matplotlib.pyplot as plt\n",
    "\n",
    "df_train = pd.read_csv('train.csv')\n",
    "intdays = []\n",
    "intmonths = []\n",
    "intyears = []\n",
    "y_train = df_train[['PAX']]\n",
    "dates = df_train[['DateOfDeparture']]\n",
    "\n",
    "for date in dates['DateOfDeparture']:\n",
    "    da = date.split('-')\n",
    "    intdays.append(datetime.date(int(da[0]), int(da[1]), int(da[2])).weekday())\n",
    "    intmonths.append(int(da[1]))\n",
    "    intyears.append(int(da[0]))\n",
    "\n",
    "print(sum(intdays)/len(intdays))\n",
    "# df_train, df_test, y_train, y_test = train_test_split(df_train, y_train, test_size=0.2, random_state=42)\n",
    "day0 = []\n",
    "day1 = []\n",
    "day2 = []\n",
    "day3 = []\n",
    "day4 = []\n",
    "day5 = []\n",
    "day6 = []\n",
    "\n",
    "for index, row in df_train.iterrows():\n",
    "    da = row['DateOfDeparture'].split('-')\n",
    "    if(datetime.date(int(da[0]), int(da[1]), int(da[2])).weekday() == 0):\n",
    "        day0.append(row['PAX'])\n",
    "    elif(datetime.date(int(da[0]), int(da[1]), int(da[2])).weekday() == 1):\n",
    "        day1.append(row['PAX'])\n",
    "    elif(datetime.date(int(da[0]), int(da[1]), int(da[2])).weekday() == 2):\n",
    "        day2.append(row['PAX'])\n",
    "    elif(datetime.date(int(da[0]), int(da[1]), int(da[2])).weekday() == 3):\n",
    "        day3.append(row['PAX'])\n",
    "    elif(datetime.date(int(da[0]), int(da[1]), int(da[2])).weekday() == 4):\n",
    "        day4.append(row['PAX'])\n",
    "    elif(datetime.date(int(da[0]), int(da[1]), int(da[2])).weekday() == 5):\n",
    "        day5.append(row['PAX'])\n",
    "    elif(datetime.date(int(da[0]), int(da[1]), int(da[2])).weekday() == 6):\n",
    "        day6.append(row['PAX'])\n",
    "        \n",
    "        \n",
    "\n",
    "daycount = [sum(day0)/len(day0), sum(day1)/len(day1), sum(day2)/len(day2), sum(day3)/len(day3), sum(day4)/len(day4), sum(day5)/len(day5), sum(day6)/len(day6)]\n",
    "print(daycount)\n",
    "        \n",
    "X_train = df_train\n",
    "X_test = df_test\n",
    "y_train = np.ravel(y_train)\n",
    "for i in range(0,7):\n",
    "    print(intdays.count(i))\n",
    "print(\"\")\n",
    "for i in range(1,13):\n",
    "    print(intmonths.count(i))\n",
    "    \n",
    "# new data frame with split value columns \n",
    "new_df_train = df_train[\"DateOfDeparture\"].str.split('-') \n",
    "\n",
    "\n",
    "df_train['Year']= new_df_train[0] \n",
    "df_train['Month']= new_df_train[1] \n",
    "df_train['Day'] = new_df_train[2]\n",
    "data.drop(columns =[\"DateOfDeparture\"], inplace = True) \n",
    "  \n",
    "# df display \n",
    "df_train\n",
    "    \n",
    "plt.hist(daycount, bins=14)\n",
    "plt.show()\n",
    "plt.hist(intdays, bins=14)\n",
    "plt.show()\n",
    "plt.hist(intmonths, bins=24)\n",
    "plt.show()\n",
    "plt.hist(intyears, bins = 6)\n",
    "plt.show()\n",
    "'''\n",
    "le = LabelEncoder()\n",
    "le.fit(df_train['Departure'])\n",
    "df_train['Departure'] = le.transform(df_train['Departure'])\n",
    "df_train['Arrival'] = le.transform(df_train['Arrival'])\n",
    "df_test['Departure'] = le.transform(df_test['Departure'])\n",
    "df_test['Arrival'] = le.transform(df_test['Arrival'])\n",
    "\n",
    "\n",
    "clf = LogisticRegression()\n",
    "clf.fit(X_train, y_train)\n",
    "y_pred = clf.predict(X_test)\n",
    "\n",
    "\n",
    "\n",
    "enc = OneHotEncoder(sparse=False)\n",
    "enc.fit(df_train)\n",
    "X_train = enc.transform(df_train)\n",
    "X_test = enc.transform(df_test)\n",
    "\n",
    "\n",
    "y_test = np.loadtxt('test_labels.csv', delimiter=\",\", skiprows=1, usecols=[1])\n",
    "f1_score(y_test, y_pred, average='micro')\n",
    "'''"
   ]
  },
  {
   "cell_type": "code",
   "execution_count": null,
   "metadata": {
    "collapsed": true
   },
   "outputs": [],
   "source": []
  },
  {
   "cell_type": "code",
   "execution_count": null,
   "metadata": {
    "collapsed": true
   },
   "outputs": [],
   "source": []
  },
  {
   "cell_type": "code",
   "execution_count": null,
   "metadata": {
    "collapsed": true
   },
   "outputs": [],
   "source": []
  },
  {
   "cell_type": "code",
   "execution_count": null,
   "metadata": {
    "collapsed": true
   },
   "outputs": [],
   "source": []
  },
  {
   "cell_type": "code",
   "execution_count": null,
   "metadata": {
    "collapsed": true
   },
   "outputs": [],
   "source": []
  }
 ],
 "metadata": {
  "kernelspec": {
   "display_name": "Python 3",
   "language": "python",
   "name": "python3"
  },
  "language_info": {
   "codemirror_mode": {
    "name": "ipython",
    "version": 3
   },
   "file_extension": ".py",
   "mimetype": "text/x-python",
   "name": "python",
   "nbconvert_exporter": "python",
   "pygments_lexer": "ipython3",
   "version": "3.6.7"
  }
 },
 "nbformat": 4,
 "nbformat_minor": 2
}
