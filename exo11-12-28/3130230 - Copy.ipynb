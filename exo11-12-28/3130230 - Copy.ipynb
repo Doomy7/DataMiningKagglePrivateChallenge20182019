{
 "cells": [
  {
   "cell_type": "code",
   "execution_count": 1,
   "metadata": {},
   "outputs": [
    {
     "ename": "ZeroDivisionError",
     "evalue": "division by zero",
     "output_type": "error",
     "traceback": [
      "\u001b[1;31m---------------------------------------------------------------------------\u001b[0m",
      "\u001b[1;31mZeroDivisionError\u001b[0m                         Traceback (most recent call last)",
      "\u001b[1;32m<ipython-input-1-98038ce8948a>\u001b[0m in \u001b[0;36m<module>\u001b[1;34m()\u001b[0m\n\u001b[0;32m     17\u001b[0m \u001b[0my_train\u001b[0m \u001b[1;33m=\u001b[0m \u001b[0mdf_train\u001b[0m\u001b[1;33m[\u001b[0m\u001b[1;33m[\u001b[0m\u001b[1;34m'PAX'\u001b[0m\u001b[1;33m]\u001b[0m\u001b[1;33m]\u001b[0m\u001b[1;33m\u001b[0m\u001b[0m\n\u001b[0;32m     18\u001b[0m \u001b[1;33m\u001b[0m\u001b[0m\n\u001b[1;32m---> 19\u001b[1;33m \u001b[0mprint\u001b[0m\u001b[1;33m(\u001b[0m\u001b[0msum\u001b[0m\u001b[1;33m(\u001b[0m\u001b[0mintdays\u001b[0m\u001b[1;33m)\u001b[0m\u001b[1;33m/\u001b[0m\u001b[0mlen\u001b[0m\u001b[1;33m(\u001b[0m\u001b[0mintdays\u001b[0m\u001b[1;33m)\u001b[0m\u001b[1;33m)\u001b[0m\u001b[1;33m\u001b[0m\u001b[0m\n\u001b[0m\u001b[0;32m     20\u001b[0m \u001b[0mdf_train\u001b[0m\u001b[1;33m,\u001b[0m \u001b[0mdf_test\u001b[0m\u001b[1;33m,\u001b[0m \u001b[0my_train\u001b[0m\u001b[1;33m,\u001b[0m \u001b[0my_test\u001b[0m \u001b[1;33m=\u001b[0m \u001b[0mtrain_test_split\u001b[0m\u001b[1;33m(\u001b[0m\u001b[0mdf_train\u001b[0m\u001b[1;33m,\u001b[0m \u001b[0my_train\u001b[0m\u001b[1;33m,\u001b[0m \u001b[0mtest_size\u001b[0m\u001b[1;33m=\u001b[0m\u001b[1;36m0.2\u001b[0m\u001b[1;33m,\u001b[0m \u001b[0mrandom_state\u001b[0m\u001b[1;33m=\u001b[0m\u001b[1;36m42\u001b[0m\u001b[1;33m)\u001b[0m\u001b[1;33m\u001b[0m\u001b[0m\n\u001b[0;32m     21\u001b[0m \u001b[0mday0\u001b[0m \u001b[1;33m=\u001b[0m \u001b[1;33m[\u001b[0m\u001b[1;33m]\u001b[0m\u001b[1;33m\u001b[0m\u001b[0m\n",
      "\u001b[1;31mZeroDivisionError\u001b[0m: division by zero"
     ]
    }
   ],
   "source": [
    "import pandas as pd\n",
    "import numpy as np\n",
    "import datetime\n",
    "from sklearn.metrics import f1_score\n",
    "from sklearn.preprocessing import LabelEncoder\n",
    "from sklearn.linear_model import LogisticRegression\n",
    "from sklearn.model_selection import train_test_split\n",
    "from sklearn.preprocessing import OneHotEncoder\n",
    "import math\n",
    "import random\n",
    "import matplotlib.pyplot as plt\n",
    "\n",
    "df_train = pd.read_csv('train.csv')\n",
    "intdays = []\n",
    "intmonths = []\n",
    "intyears = []\n",
    "y_train = df_train[['PAX']]\n",
    "\n",
    "print(sum(intdays)/len(intdays))\n",
    "df_train, df_test, y_train, y_test = train_test_split(df_train, y_train, test_size=0.2, random_state=42)\n",
    "day0 = []\n",
    "day1 = []\n",
    "day2 = []\n",
    "day3 = []\n",
    "day4 = []\n",
    "day5 = []\n",
    "day6 = []\n",
    "\n",
    "for index, row in df_train.iterrows():\n",
    "    da = row['DateOfDeparture'].split('-')\n",
    "    if(datetime.date(int(da[0]), int(da[1]), int(da[2])).weekday() == 0):\n",
    "        day0.append(row['PAX'])\n",
    "    elif(datetime.date(int(da[0]), int(da[1]), int(da[2])).weekday() == 1):\n",
    "        day1.append(row['PAX'])\n",
    "    elif(datetime.date(int(da[0]), int(da[1]), int(da[2])).weekday() == 2):\n",
    "        day2.append(row['PAX'])\n",
    "    elif(datetime.date(int(da[0]), int(da[1]), int(da[2])).weekday() == 3):\n",
    "        day3.append(row['PAX'])\n",
    "    elif(datetime.date(int(da[0]), int(da[1]), int(da[2])).weekday() == 4):\n",
    "        day4.append(row['PAX'])\n",
    "    elif(datetime.date(int(da[0]), int(da[1]), int(da[2])).weekday() == 5):\n",
    "        day5.append(row['PAX'])\n",
    "    elif(datetime.date(int(da[0]), int(da[1]), int(da[2])).weekday() == 6):\n",
    "        day6.append(row['PAX'])\n",
    "        \n",
    "        \n",
    "\n",
    "daycount = [sum(day0)/len(day0), sum(day1)/len(day1), sum(day2)/len(day2), sum(day3)/len(day3), sum(day4)/len(day4), sum(day5)/len(day5), sum(day6)/len(day6)]\n",
    "print(daycount)\n",
    "        \n",
    "X_train = df_train\n",
    "X_test = df_test\n",
    "y_train = np.ravel(y_train)\n",
    "for i in range(0,7):\n",
    "    print(intdays.count(i))\n",
    "print(\"\")\n",
    "for i in range(1,13):\n",
    "    print(intmonths.count(i))\n",
    "    \n",
    "# new data frame with split value columns \n",
    "new_df_train = df_train[\"DateOfDeparture\"].str.split('-') \n",
    "\n",
    "\n",
    "df_train['Year']= new_df_train[0] \n",
    "df_train['Month']= new_df_train[1] \n",
    "df_train['Day'] = new_df_train[2]\n",
    "data.drop(columns =[\"DateOfDeparture\"], inplace = True) \n",
    "  \n",
    "# df display \n",
    "df_train\n",
    "    \n",
    "plt.hist(daycount, bins=14)\n",
    "plt.show()\n",
    "plt.hist(intdays, bins=14)\n",
    "plt.show()\n",
    "plt.hist(intmonths, bins=24)\n",
    "plt.show()\n",
    "plt.hist(intyears, bins = 6)\n",
    "plt.show()\n",
    "'''\n",
    "le = LabelEncoder()\n",
    "le.fit(df_train['Departure'])\n",
    "df_train['Departure'] = le.transform(df_train['Departure'])\n",
    "df_train['Arrival'] = le.transform(df_train['Arrival'])\n",
    "df_test['Departure'] = le.transform(df_test['Departure'])\n",
    "df_test['Arrival'] = le.transform(df_test['Arrival'])\n",
    "\n",
    "\n",
    "clf = LogisticRegression()\n",
    "clf.fit(X_train, y_train)\n",
    "y_pred = clf.predict(X_test)\n",
    "\n",
    "\n",
    "\n",
    "enc = OneHotEncoder(sparse=False)\n",
    "enc.fit(df_train)\n",
    "X_train = enc.transform(df_train)\n",
    "X_test = enc.transform(df_test)\n",
    "\n",
    "\n",
    "y_test = np.loadtxt('test_labels.csv', delimiter=\",\", skiprows=1, usecols=[1])\n",
    "f1_score(y_test, y_pred, average='micro')\n",
    "'''"
   ]
  },
  {
   "cell_type": "code",
   "execution_count": null,
   "metadata": {
    "collapsed": true
   },
   "outputs": [],
   "source": []
  },
  {
   "cell_type": "code",
   "execution_count": null,
   "metadata": {
    "collapsed": true
   },
   "outputs": [],
   "source": []
  },
  {
   "cell_type": "code",
   "execution_count": null,
   "metadata": {
    "collapsed": true
   },
   "outputs": [],
   "source": []
  },
  {
   "cell_type": "code",
   "execution_count": null,
   "metadata": {
    "collapsed": true
   },
   "outputs": [],
   "source": []
  },
  {
   "cell_type": "code",
   "execution_count": null,
   "metadata": {
    "collapsed": true
   },
   "outputs": [],
   "source": []
  }
 ],
 "metadata": {
  "kernelspec": {
   "display_name": "Python 3",
   "language": "python",
   "name": "python3"
  },
  "language_info": {
   "codemirror_mode": {
    "name": "ipython",
    "version": 3
   },
   "file_extension": ".py",
   "mimetype": "text/x-python",
   "name": "python",
   "nbconvert_exporter": "python",
   "pygments_lexer": "ipython3",
   "version": "3.6.2"
  }
 },
 "nbformat": 4,
 "nbformat_minor": 2
}
